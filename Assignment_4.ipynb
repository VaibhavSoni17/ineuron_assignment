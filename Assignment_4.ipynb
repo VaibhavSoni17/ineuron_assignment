{
 "cells": [
  {
   "cell_type": "markdown",
   "metadata": {},
   "source": [
    "# 1.1 Write a Python Program(with class concepts) to find the area of the triangle using the below  formula. area = (s*(s-a)*(s-b)*(s-c)) ** 0.5 Function to take the length of the sides of triangle from user should be defined in the parent  class and function to calculate the area should be defined in subclass. "
   ]
  },
  {
   "cell_type": "code",
   "execution_count": 1,
   "metadata": {},
   "outputs": [
    {
     "name": "stdout",
     "output_type": "stream",
     "text": [
      "Enter first side of triangle: 10\n",
      "Enter second side of triangle: 12\n",
      "Enter third side of triangle: 15\n",
      "Area  of Triangle is 59.81\n"
     ]
    }
   ],
   "source": [
    "#Parent class to take input from user as length of triangle\n",
    "class UserInput:\n",
    "    def __init__(self):\n",
    "        self.a = float(input('Enter first side of triangle: '))\n",
    "        self.b = float(input('Enter second side of triangle: '))\n",
    "        self.c = float(input('Enter third side of triangle: '))\n",
    "\n",
    "#Subclass/child class to calculate the area of triangle\n",
    "class CalculateArea(UserInput):\n",
    "    def __init__(self):\n",
    "        super().__init__()\n",
    "    \n",
    "    def get_area(self):\n",
    "            s = (self.a + self.b + self.c)/2\n",
    "            area_triangle = (s*(s - self.a)*(s - self.b)*(s - self.c))**(0.5)\n",
    "            print(f'Area  of Triangle is {area_triangle:.2f}')\n",
    "\n",
    "#Object for CalculateArea class\n",
    "calculate_obj = CalculateArea()\n",
    "\n",
    "#Calling get_area method in CalculateArea class to get the area\n",
    "calculate_obj.get_area()"
   ]
  },
  {
   "cell_type": "markdown",
   "metadata": {},
   "source": [
    "# 1.2 Write a function filter_long_words() that takes a list of words and an integer n and returns  the list of words that are longer than n. "
   ]
  },
  {
   "cell_type": "code",
   "execution_count": 2,
   "metadata": {},
   "outputs": [
    {
     "name": "stdout",
     "output_type": "stream",
     "text": [
      "Result 1: ['var', 'vari', 'varia', 'variab', 'variab', 'variabl', 'variable']\n",
      "Result 2: ['vari', 'varia', 'variab', 'variab', 'variabl', 'variable']\n",
      "Result 3: ['variab', 'variab', 'variabl', 'variable']\n"
     ]
    }
   ],
   "source": [
    "#Function to take a list of words\n",
    "def filter_long_words(words, num):\n",
    "    return [item for item in words if len(item)>num]\n",
    "\n",
    "#Variables to test the function\n",
    "result1 = filter_long_words(['var', 'va', 'v', 'vari', 'varia', 'variab', 'variab', 'variabl', 'variable'], 2)\n",
    "result2 = filter_long_words(['var', 'va', 'v', 'vari', 'varia', 'variab', 'variab', 'variabl', 'variable'], 3)\n",
    "result3 = filter_long_words(['var', 'va', 'v', 'vari', 'varia', 'variab', 'variab', 'variabl', 'variable'], 5)\n",
    "\n",
    "#To print the resultant output\n",
    "print(f'Result 1: {result1}')\n",
    "print(f'Result 2: {result2}')\n",
    "print(f'Result 3: {result3}')"
   ]
  },
  {
   "cell_type": "markdown",
   "metadata": {},
   "source": [
    "# 2.1 Write a Python program using function concept that maps list of words into a list of integers  representing the lengths of the corresponding words. Hint: If a list [ ab,cde,erty] is passed on to the python function output should come as [2,3,4] Here 2,3 and 4 are the lengths of the words in the list. "
   ]
  },
  {
   "cell_type": "code",
   "execution_count": 3,
   "metadata": {},
   "outputs": [
    {
     "name": "stdout",
     "output_type": "stream",
     "text": [
      "Result 1: [2, 3, 4]\n",
      "Result 2: [3, 2, 1, 4, 5, 6, 6, 7, 8]\n",
      "Result 3: [3, 2, 1]\n"
     ]
    }
   ],
   "source": [
    "#Function to convert words to its length\n",
    "def words_to_len(wordslst):\n",
    "    return [len(item) for item in wordslst]\n",
    "\n",
    "#Variables to test the function\n",
    "result1 = words_to_len(['ad', 'cde', 'erty'])\n",
    "result2 = words_to_len(['var', 'va', 'v', 'vari', 'varia', 'variab', 'variab', 'variabl', 'variable'])\n",
    "result3 = words_to_len(['var', 'va', 'v'])\n",
    "\n",
    "#To print the resulted output\n",
    "print(f'Result 1: {result1}')\n",
    "print(f'Result 2: {result2}')\n",
    "print(f'Result 3: {result3}')"
   ]
  },
  {
   "cell_type": "markdown",
   "metadata": {},
   "source": [
    "# 2.2 Write a Python function which takes a character (i.e. a string of length 1) and returns True if  it is a vowel, False otherwise. "
   ]
  },
  {
   "cell_type": "code",
   "execution_count": 4,
   "metadata": {},
   "outputs": [
    {
     "name": "stdout",
     "output_type": "stream",
     "text": [
      "Result 1: False\n",
      "Result 2: True\n",
      "Result 3: True\n",
      "Result 4: False\n"
     ]
    }
   ],
   "source": [
    "#Function to check whether a input character is vowel or not\n",
    "def vowel_detector(character):\n",
    "    return character.lower() in ['a', 'e', 'i', 'o', 'u']\n",
    "\n",
    "#Variables to test the function\n",
    "result1 = vowel_detector('C')\n",
    "result2 = vowel_detector('a')\n",
    "result3 = vowel_detector('I')\n",
    "result4 = vowel_detector('c')\n",
    "\n",
    "#To print the resulted output\n",
    "print(f'Result 1: {result1}')\n",
    "print(f'Result 2: {result2}')\n",
    "print(f'Result 3: {result3}')\n",
    "print(f'Result 4: {result4}')"
   ]
  }
 ],
 "metadata": {
  "kernelspec": {
   "display_name": "Python 3",
   "language": "python",
   "name": "python3"
  },
  "language_info": {
   "codemirror_mode": {
    "name": "ipython",
    "version": 3
   },
   "file_extension": ".py",
   "mimetype": "text/x-python",
   "name": "python",
   "nbconvert_exporter": "python",
   "pygments_lexer": "ipython3",
   "version": "3.8.5"
  }
 },
 "nbformat": 4,
 "nbformat_minor": 4
}
