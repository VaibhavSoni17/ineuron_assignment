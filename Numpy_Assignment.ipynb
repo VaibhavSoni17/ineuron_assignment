{
 "cells": [
  {
   "cell_type": "code",
   "execution_count": 1,
   "metadata": {},
   "outputs": [],
   "source": [
    "import numpy as np"
   ]
  },
  {
   "cell_type": "markdown",
   "metadata": {},
   "source": [
    "# Problem Statement 1: \n",
    "Write a function so that the columns of the output matrix are powers of the input vector.\n",
    "\n",
    "The order of the powers is determined by the increasing boolean argument. Specifically, when  increasing is False, the i-th output column is the input vector raised element-wise to the power  of N - i - 1. \n",
    "\n",
    "HINT: Such a matrix with a geometric progression in each row is named for Alexandre Theophile Vandermonde. "
   ]
  },
  {
   "cell_type": "code",
   "execution_count": 2,
   "metadata": {},
   "outputs": [],
   "source": [
    "import math\n",
    "def alex_T_vander(array_value, input_vector, increasing=False):\n",
    "    if increasing==False:\n",
    "        lst = [[int(math.pow(array_value[item],input_vector-num-1)) for num in range(input_vector)]\n",
    "               for item in range(len(array_value))]\n",
    "    else:\n",
    "        lst = [[int(math.pow(array_value[item],num)) for num in range(input_vector)]\n",
    "               for item in range(len(array_value))]\n",
    "    return np.array(lst)"
   ]
  },
  {
   "cell_type": "code",
   "execution_count": 3,
   "metadata": {},
   "outputs": [],
   "source": [
    "x = np.array([1, 2, 3, 5])\n",
    "N = 5"
   ]
  },
  {
   "cell_type": "code",
   "execution_count": 4,
   "metadata": {},
   "outputs": [
    {
     "data": {
      "text/plain": [
       "array([[  1,   1,   1,   1,   1],\n",
       "       [ 16,   8,   4,   2,   1],\n",
       "       [ 81,  27,   9,   3,   1],\n",
       "       [625, 125,  25,   5,   1]])"
      ]
     },
     "execution_count": 4,
     "metadata": {},
     "output_type": "execute_result"
    }
   ],
   "source": [
    "first_test_set = alex_T_vander(x,N)\n",
    "first_test_set"
   ]
  },
  {
   "cell_type": "code",
   "execution_count": 5,
   "metadata": {},
   "outputs": [
    {
     "data": {
      "text/plain": [
       "array([[  1,   1,   1,   1,   1],\n",
       "       [  1,   2,   4,   8,  16],\n",
       "       [  1,   3,   9,  27,  81],\n",
       "       [  1,   5,  25, 125, 625]])"
      ]
     },
     "execution_count": 5,
     "metadata": {},
     "output_type": "execute_result"
    }
   ],
   "source": [
    "second_test_set = alex_T_vander(x,N,True)\n",
    "second_test_set"
   ]
  },
  {
   "cell_type": "markdown",
   "metadata": {},
   "source": [
    "# Problem Statement 2: \n",
    "Given a sequence of n values x1, x2, ..., xn and a window size k>0, the k-th moving average of  the given sequence is defined as follows:\n",
    "\n",
    "The moving average sequence has n-k+1 elements as shown below. \n",
    "\n",
    "The moving averages with k=4 of a ten-value sequence (n=10) is shown below \n",
    "\n",
    "i 1 2 3 4 5 6 7 8 9 10 \n",
    "\n",
    "===== == == == == == == == == == == \n",
    "\n",
    "Input 10 20 30 40 50 60 70 80 90 100 \n",
    "\n",
    "y1 25 = (10+20+30+40)/4 \n",
    "\n",
    "y2 35 = (20+30+40+50)/4 \n",
    "\n",
    "y3 45 = (30+40+50+60)/4 \n",
    "\n",
    "y4 55 = (40+50+60+70)/4 \n",
    "\n",
    "y5 65 = (50+60+70+80)/4 \n",
    "\n",
    "y6 75 = (60+70+80+90)/4 \n",
    "\n",
    "y7 85 = (70+80+90+100)/4 \n",
    "\n",
    "Thus, the moving average sequence has n-k+1=10-4+1=7 values.\n",
    "\n",
    "Question: Write a function to find moving average in an array over a window:  Test it over [3, 5, 7, 2, 8, 10, 11, 65, 72, 81, 99, 100, 150] and window of 3. "
   ]
  },
  {
   "cell_type": "code",
   "execution_count": 6,
   "metadata": {},
   "outputs": [],
   "source": [
    "first_test_array_set = np.array([10, 20, 30, 40, 50, 60, 70, 80, 90, 100])\n",
    "second_test_array_set = np.array([3, 5, 7, 2, 8, 10, 11, 65, 72, 81, 99, 100, 150])"
   ]
  },
  {
   "cell_type": "code",
   "execution_count": 7,
   "metadata": {},
   "outputs": [],
   "source": [
    "def mov_average(array_value, window_value):\n",
    "    for item in range(array_value.size - window_value + 1):\n",
    "        ave = int(sum(array_value[item:window_value+item])/window_value)\n",
    "        print(f'y{item+1} = {ave}')"
   ]
  },
  {
   "cell_type": "code",
   "execution_count": 8,
   "metadata": {},
   "outputs": [
    {
     "name": "stdout",
     "output_type": "stream",
     "text": [
      "y1 = 25\n",
      "y2 = 35\n",
      "y3 = 45\n",
      "y4 = 55\n",
      "y5 = 65\n",
      "y6 = 75\n",
      "y7 = 85\n"
     ]
    }
   ],
   "source": [
    "mov_average(first_test_array_set,4)"
   ]
  },
  {
   "cell_type": "code",
   "execution_count": 9,
   "metadata": {},
   "outputs": [
    {
     "name": "stdout",
     "output_type": "stream",
     "text": [
      "y1 = 5\n",
      "y2 = 4\n",
      "y3 = 5\n",
      "y4 = 6\n",
      "y5 = 9\n",
      "y6 = 28\n",
      "y7 = 49\n",
      "y8 = 72\n",
      "y9 = 84\n",
      "y10 = 93\n",
      "y11 = 116\n"
     ]
    }
   ],
   "source": [
    "mov_average(second_test_array_set,3)"
   ]
  }
 ],
 "metadata": {
  "kernelspec": {
   "display_name": "Python 3",
   "language": "python",
   "name": "python3"
  },
  "language_info": {
   "codemirror_mode": {
    "name": "ipython",
    "version": 3
   },
   "file_extension": ".py",
   "mimetype": "text/x-python",
   "name": "python",
   "nbconvert_exporter": "python",
   "pygments_lexer": "ipython3",
   "version": "3.8.5"
  }
 },
 "nbformat": 4,
 "nbformat_minor": 4
}
